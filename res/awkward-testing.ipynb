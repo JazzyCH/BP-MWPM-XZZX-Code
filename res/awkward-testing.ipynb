{
 "cells": [
  {
   "cell_type": "code",
   "execution_count": 1,
   "metadata": {},
   "outputs": [],
   "source": [
    "from numba import njit\n",
    "import numpy as np\n",
    "import awkward as ak"
   ]
  },
  {
   "cell_type": "code",
   "execution_count": 2,
   "metadata": {},
   "outputs": [],
   "source": [
    "@njit\n",
    "def ops_jit(jagged_arr):\n",
    "    ret = 0\n",
    "    for arr in jagged_arr:\n",
    "        for i in arr:\n",
    "            ret += np.sin(i) ** np.cos(i)\n",
    "    return ret"
   ]
  },
  {
   "cell_type": "code",
   "execution_count": 3,
   "metadata": {},
   "outputs": [],
   "source": [
    "@njit\n",
    "def ops_flat_jit(arr):\n",
    "    ret = 0\n",
    "    for i in arr:\n",
    "        ret += np.sin(i) ** np.cos(i)\n",
    "    return ret"
   ]
  },
  {
   "cell_type": "code",
   "execution_count": 4,
   "metadata": {},
   "outputs": [],
   "source": [
    "def ops(jagged_arr):\n",
    "    ret = 0\n",
    "    for arr in jagged_arr:\n",
    "        for i in arr:\n",
    "            ret += np.sin(i) ** np.cos(i)\n",
    "    return ret"
   ]
  },
  {
   "cell_type": "code",
   "execution_count": 5,
   "metadata": {},
   "outputs": [],
   "source": [
    "def ops_flat(arr):\n",
    "    ret = 0\n",
    "    for i in arr:\n",
    "        ret += np.sin(i) ** np.cos(i)\n",
    "    return ret"
   ]
  },
  {
   "cell_type": "code",
   "execution_count": 6,
   "metadata": {},
   "outputs": [],
   "source": [
    "awk_list = []\n",
    "length = 0\n",
    "for i in range(1000):\n",
    "    j = np.random.randint(1000, 10000)\n",
    "    local = np.random.rand(j).tolist()\n",
    "    awk_list.append(local)\n",
    "    length += j\n",
    "awk_array = ak.Array(awk_list)\n",
    "awk_flat = ak.flatten(awk_array)\n",
    "awk_arr = ak.to_numpy(awk_flat)"
   ]
  },
  {
   "cell_type": "code",
   "execution_count": 7,
   "metadata": {},
   "outputs": [
    {
     "name": "stdout",
     "output_type": "stream",
     "text": [
      "CPU times: user 181 ms, sys: 80 µs, total: 181 ms\n",
      "Wall time: 182 ms\n",
      "CPU times: user 179 ms, sys: 944 µs, total: 180 ms\n",
      "Wall time: 181 ms\n",
      "CPU times: user 179 ms, sys: 0 ns, total: 179 ms\n",
      "Wall time: 180 ms\n"
     ]
    },
    {
     "data": {
      "text/plain": "2774661.8722274634"
     },
     "execution_count": 7,
     "metadata": {},
     "output_type": "execute_result"
    }
   ],
   "source": [
    "# dunce runs to help numba initialize the jit infrastructure\n",
    "ops_jit(awk_array)\n",
    "ops_flat_jit(awk_flat)\n",
    "ops_flat_jit(awk_arr)\n",
    "\n",
    "%time ops_jit(awk_array)\n",
    "%time ops_flat_jit(awk_flat)\n",
    "%time ops_flat_jit(awk_arr)"
   ]
  },
  {
   "cell_type": "code",
   "execution_count": 9,
   "metadata": {},
   "outputs": [
    {
     "name": "stdout",
     "output_type": "stream",
     "text": [
      "CPU times: user 15.1 s, sys: 36.5 ms, total: 15.1 s\n",
      "Wall time: 15.4 s\n",
      "CPU times: user 14.4 s, sys: 31.1 ms, total: 14.4 s\n",
      "Wall time: 14.6 s\n",
      "CPU times: user 11 s, sys: 16.8 ms, total: 11.1 s\n",
      "Wall time: 11.2 s\n"
     ]
    },
    {
     "data": {
      "text/plain": "2774661.8722274634"
     },
     "execution_count": 9,
     "metadata": {},
     "output_type": "execute_result"
    }
   ],
   "source": [
    "%time ops(awk_array)\n",
    "%time ops_flat(awk_flat)\n",
    "%time ops_flat(awk_arr)"
   ]
  }
 ],
 "metadata": {
  "kernelspec": {
   "display_name": "Python 3.9.4 64-bit ('surface-codes-devel': conda)",
   "name": "python394jvsc74a57bd03715f55b6a68a135d17ab7e5dc3622699f4e3402237adb77932c27894c2e923b"
  },
  "language_info": {
   "codemirror_mode": {
    "name": "ipython",
    "version": 3
   },
   "file_extension": ".py",
   "mimetype": "text/x-python",
   "name": "python",
   "nbconvert_exporter": "python",
   "pygments_lexer": "ipython3",
   "version": "3.9.4"
  },
  "orig_nbformat": 2
 },
 "nbformat": 4,
 "nbformat_minor": 2
}