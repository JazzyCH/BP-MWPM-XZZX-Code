{
 "cells": [
  {
   "cell_type": "code",
   "execution_count": null,
   "metadata": {},
   "outputs": [],
   "source": [
    "%reload_ext autoreload\n",
    "%autoreload 2\n",
    "\n",
    "import os, sys, inspect\n",
    "currentdir = os.path.dirname(os.path.abspath(inspect.getfile(inspect.currentframe())))\n",
    "parentdir = os.path.dirname(currentdir)\n",
    "sys.path.insert(0, parentdir) "
   ]
  },
  {
   "cell_type": "code",
   "execution_count": null,
   "metadata": {},
   "outputs": [],
   "source": [
    "import time\n",
    "import numpy as np\n",
    "import pandas as pd\n",
    "import plotly.express as px\n",
    "from src.xzzx import XZZXDecoderBase as XZZXDecoder"
   ]
  },
  {
   "cell_type": "code",
   "execution_count": null,
   "metadata": {},
   "outputs": [],
   "source": [
    "NUM_SHOTS_BASE = 1e2\n",
    "NUM_SIZE_STEPS = 7 # 3, 5, 7, etc.\n",
    "NUM_CPU_STEPS = 10 # 1, 2, 3, etc.\n",
    "METHOD = \"bp+mwpm+multi\"\n",
    "NOISE_MODEL = [0.04, 1, \"Z\"]\n",
    "NUM_BP_PASSES = 50\n",
    "\n",
    "time_arr = np.zeros((NUM_SIZE_STEPS, NUM_CPU_STEPS), dtype=np.float64)\n",
    "res_arr = np.zeros((NUM_SIZE_STEPS, NUM_CPU_STEPS, 3), dtype=np.float64)\n",
    "\n",
    "for s_ind in range(NUM_SIZE_STEPS):\n",
    "    size = 2 * s_ind + 3\n",
    "    for c_ind in range(NUM_CPU_STEPS):\n",
    "        cpu = c_ind + 1\n",
    "        NUM_SHOTS = int(NUM_SHOTS_BASE * (3 ** 2 / size ** 2)) * cpu\n",
    "        decoder = XZZXDecoder(size, size, 1, METHOD, noise_model=NOISE_MODEL)\n",
    "        decoder.run_decoder(1, 1, num_cpu=cpu, display_progress=False) # compile if possible\n",
    "        start_time = time.time()\n",
    "        res = decoder.run_decoder(NUM_SHOTS, NUM_BP_PASSES, num_cpu=cpu)\n",
    "        end_time = time.time()\n",
    "        time_arr[s_ind, c_ind] = (end_time - start_time) / NUM_SHOTS\n",
    "        res_arr[s_ind, c_ind] = res"
   ]
  },
  {
   "cell_type": "code",
   "execution_count": null,
   "metadata": {},
   "outputs": [],
   "source": [
    "tta = time_arr"
   ]
  },
  {
   "cell_type": "code",
   "execution_count": null,
   "metadata": {},
   "outputs": [],
   "source": [
    "wc_time_df = pd.DataFrame(tta, columns=range(1, 11), index=range(3, 13, 2))\n",
    "\n",
    "wc_time_fig = px.scatter(\n",
    "    wc_time_df, log_y=True,\n",
    "    title='Wall Clock Time (i7-8086K, 6C12T @ 4.4GHz)',\n",
    "    labels={\n",
    "        'index': 'Lattice Size d',\n",
    "        'value': 'Average Time per Shot (sec)',\n",
    "        'variable': '# of CPUs'\n",
    "    }\n",
    ").update_traces(mode='lines+markers')\n",
    "\n",
    "wc_time_fig.write_html('perf/wc_time.html')"
   ]
  },
  {
   "cell_type": "code",
   "execution_count": null,
   "metadata": {},
   "outputs": [],
   "source": [
    "cpu_time_df = pd.DataFrame(tta * range(1, 11), columns=range(1, 11), index=range(3, 13, 2))\n",
    "\n",
    "cpu_time_fig = px.scatter(\n",
    "    cpu_time_df, log_y=True,\n",
    "    title='CPU Time (i7-8086K, 6C12T @ 4.4GHz)',\n",
    "    labels={\n",
    "        'index': 'Lattice Size d',\n",
    "        'value': 'Average CPU Time per Shot (sec)',\n",
    "        'variable': '# of CPUs'\n",
    "    }\n",
    ").update_traces(mode='lines+markers')\n",
    "\n",
    "cpu_time_fig.write_html('perf/cpu_time.html')"
   ]
  },
  {
   "cell_type": "code",
   "execution_count": null,
   "metadata": {},
   "outputs": [],
   "source": [
    "rel_perf_df = pd.DataFrame(1 / ((tta * range(1, 11)).T / tta[:, 0]).T, columns=range(1, 11), index=range(3, 13, 2))\n",
    "\n",
    "rel_perf_fig = px.scatter(\n",
    "    rel_perf_df, log_y=True,\n",
    "    title='Performance Relative to Single-Core (i7-8086K, 6C12T @ 4.4GHz)',\n",
    "    labels={\n",
    "        'index': 'Lattice Size d',\n",
    "        'value': 'Relative Performance (High Is Better)',\n",
    "        'variable': '# of CPUs'\n",
    "    }\n",
    ").update_traces(mode='lines+markers')\n",
    "\n",
    "rel_perf_fig.write_html('perf/rel_perf.html')"
   ]
  }
 ],
 "metadata": {
  "kernelspec": {
   "display_name": "Python 3",
   "language": "python",
   "name": "python3"
  },
  "language_info": {}
 },
 "nbformat": 4,
 "nbformat_minor": 2
}